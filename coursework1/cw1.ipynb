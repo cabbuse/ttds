{
 "cells": [
  {
   "cell_type": "code",
   "execution_count": 16,
   "metadata": {},
   "outputs": [],
   "source": [
    "from bs4 import BeautifulSoup\n",
    " \n",
    " \n",
    "# Reading the data inside the xml\n",
    "# file to a variable under the name\n",
    "# data\n",
    "with open('trec.sample.xml', 'r') as f:\n",
    "    data = f.read()\n",
    " \n",
    "# Passing the stored data inside\n",
    "# the beautifulsoup parser, storing\n",
    "# the returned object\n",
    "Bs_data = BeautifulSoup(data, \"xml\")"
   ]
  },
  {
   "cell_type": "code",
   "execution_count": 17,
   "metadata": {},
   "outputs": [],
   "source": [
    "headlines = str(Bs_data.find_all('HEADLINE')).split(\"</HEADLINE>\")\n",
    "headlines = [x.replace(\"\\n\", \"\") for x in headlines]\n",
    "text = str(Bs_data.find_all('TEXT')).split(\"</TEXT>\")\n",
    "text = [x.replace(\"\\n\", \"\") for x in text]\n",
    "\n",
    "trec = [x + y for x, y in zip(headlines, text)]\n",
    "trec = [x.replace(\"<HEADLINE>\", \"\") for x in trec]\n",
    "trec = [x.replace(\"<TEXT>\", \"\") for x in trec]\n"
   ]
  },
  {
   "cell_type": "code",
   "execution_count": 18,
   "metadata": {},
   "outputs": [
    {
     "name": "stdout",
     "output_type": "stream",
     "text": [
      "[['', 'FT', '', '14', 'MAY', '91', '', '', '', 'CORRECTED', '', 'Jubilee', 'of', 'a', 'jet', 'that', 'did', 'what', 'it', 'was', 'designedto', 'do', 'Correction', '', 'published', '16th', 'May', '1991', '', 'appended', 'to', 'this', 'article', '', 'FRANK', '', 'it', 'flies', '', '', 'shouted', 'someone', 'at', 'Sir', 'Frank', 'Whittle', 'during', 'the', 'maidenflight', 'of', 'a', 'British', 'jet', '', '', 'Of', 'course', 'it', 'does', '', '', 'replied', 'Sir', 'Frank', '', 'whopatented', 'the', 'first', 'aircraft', 'gas', 'turbine', '', '', 'That', 's', 'what', 'it', 'was', 'bloody', 'welldesigned', 'to', 'do', '', 'wasn', 't', 'it', '', 'Exactly', '50', 'years', 'ago', 'yesterday', '', 'the', 'first', 'British', 'jet', 'made', 'a', 'brief', '17-minuteflight', 'from', 'RAF', 'Cranwell', 'in', 'Lincolnshire', '', 'To', 'celebrate', 'the', 'event', '', 'Mr', 'Eric', 'Winkle', '', 'Brown', '', 'a', '72-year-old', 'test', 'pilot', 'of', 'the', 'prototype', 'Gloster', 'Whittlejet', '', 'Mr', 'Geoffrey', 'Bone', '', 'a', '73-year-old', 'engineer', '', 'and', 'Mr', 'Charles', 'McClure', '', 'a75-year-old', 'pilot', '', 'returned', 'to', 'RAF', 'Cranwell', '', 'They', 'are', 'seen', 'in', 'front', 'of', 'arestored', 'Meteor', 'NF', '11', '', 'Sir', 'Frank', 'was', 'unable', 'to', 'attend', 'because', 'of', 'ill-health', 'The', 'Gloster', 'Whittle', 'was', 'not', 'the', 'first', 'jet', 'to', 'fly', '', 'a', 'Heinkel', '178', 'had', 'itsmaiden', 'flight', 'in', 'August', '1939', '', '21', 'months', 'before', 'the', 'British', 'aircraft', 'Correction', '', 'published', '16th', 'May', '1991', '', 'THE', 'PICTURE', 'of', 'a', 'Gloster', 'Whittle', 'jet', 'on', 'Page', '7', 'of', 'the', 'issue', 'of', 'Tuesday', 'May14', '', 'was', 'taken', 'at', 'Bournemouth', 'Airport', 'and', 'not', 'at', 'RAF', 'Cranwell', 'as', 'stated', 'inthe', 'caption', ''], ['', '', 'FT', '', '14', 'MAY', '91', '', '', '', 'CORRECTED', '', 'UK', 'Company', 'News', '', 'Geevor', 'merger', 'hits', 'rocks', 'overpre-conditions', '', 'Correction', '', 'published', '16th', 'May', '1991', '', 'appended', 'to', 'this', 'article', 'Geevor', '', 'the', 'UK', 'mining', 'group', 'which', 'has', 'been', 'fighting', 'for', 'survival', 'since', 'theCanadian', 'Imperial', 'Bank', 'of', 'Commerce', 'called', 'in', 'a', 'Pounds', '2', '1m', 'loan', 'inextraordinary', 'circumstances', 'in', 'January', '', 'has', 'suffered', 'another', 'set-back', 'Its', 'proposed', 'merger', 'with', 'European', 'Mining', 'Finance', '', 'a', 'Luxembourg-quotedinvestment', 'company', '', 'has', 'run', 'into', 'problems', 'and', 'will', 'not', 'go', 'ahead', 'on', 'the', 'termsannounced', 'in', 'March', 'Two', 'of', 'the', 'pre-conditions', 'for', 'the', 'merger', 'have', 'not', 'been', 'satisfied', '-', 'theraising', 'of', 'bank', 'finance', 'for', 'the', 'enlarged', 'group', 'and', 'the', 'termination', 'of', 'themanagement', 'agreement', 'between', 'EMF', 'and', 'its', 'manager', '', 'Lion', 'Mining', 'Finance', 'However', '', 'Geevor', 'said', 'it', 'remained', 'in', 'talks', 'with', 'EMF', 'and', 'other', 'parties', '', 'whichmay', 'result', 'in', 'modified', 'proposals', '', 'Monarch', 'Resources', '', 'the', 'UK-quoted', 'mining', 'group', 'with', 'operations', 'in', 'Venezuela', 'has', 'appointed', 'Mr', 'Anthony', 'Ciali', 'as', 'president', 'and', 'chief', 'executive', 'officer', 'This', 'follows', 'the', 'recent', 'boardroom', 'shake-up', 'which', 'resulted', 'in', 'the', 'departureof', 'seven', 'directors', 'and', 'the', 'arrival', 'of', 'Mr', 'Michael', 'Beckett', 'as', 'chairman', 'Mr', 'Beckett', 'was', 'managing', 'director', 'of', 'Consolidated', 'Gold', 'Fields', 'and', 'Mr', 'Cialiwas', 'once', 'a', 'vice-president', 'of', 'Gold', 'Fields', 'Mining', 'Corp', '', 'a', 'US', 'subsidiary', 'Correction', '', 'published', '16th', 'May', '1991', '', 'Lion', 'Mining', 'Finance', 'is', 'not', 'the', 'manager', 'of', 'European', 'Mining', 'Finance', 'as', 'wereported', 'on', 'May', '14', ''], ['', '', 'FT', '', '14', 'MAY', '91', '', '', 'International', 'Company', 'News', '', 'Contigas', 'plans', 'DM900m', 'eastGerman', 'project', '', 'CONTIGAS', '', 'the', 'German', 'gas', 'group', '81', 'per', 'cent', 'owned', 'by', 'the', 'utility', 'Bayernwerk', 'said', 'yesterday', 'that', 'it', 'intends', 'to', 'invest', 'DM900m', '', 'Dollars', '522m', '', 'in', 'the', 'nextfour', 'years', 'to', 'build', 'a', 'new', 'gas', 'distribution', 'system', 'in', 'the', 'east', 'German', 'stateof', 'Thuringia', 'Reporting', 'on', 'its', 'results', 'for', '1989-1990', 'the', 'company', 'said', 'that', 'the', 'dividendwould', 'remain', 'unchanged', 'at', 'DM8', 'Sales', 'rose', '9', '4', 'per', 'cent', 'to', 'DM3', '37bn', '', 'but', 'post-tax', 'profit', 'fell', 'slightly', 'fromDM31', '3m', 'to', 'DM30', '7m', 'In', 'the', 'first', 'half', 'of', 'the', 'current', 'year', 'sales', 'rose', '23', 'per', 'cent', 'Mr', 'Jurgen', 'Weber', '', 'currently', 'vice-chairman', 'of', 'Lufthansa', '', 'the', 'German', 'airline', 'is', 'today', 'expected', 'to', 'be', 'named', 'as', 'the', 'successor', 'to', 'the', 'chairman', 'Mr', 'HeinzRuhnau', 'who', 'retires', 'at', 'the', 'end', 'of', '1992', 'Mr', 'Weber', 'is', 'currently', 'the', 'technical', 'director', 'on', 'the', 'Lufthansa', 'board', ''], ['', '', 'FT', '', '14', 'MAY', '91', '', '', 'World', 'News', 'in', 'Brief', '', 'Population', 'warning', '', 'The', 'world', 's', 'population', 'is', 'growing', 'faster', 'than', 'predicted', 'and', 'will', 'consume', 'atan', 'unprecedented', 'rate', 'the', 'natural', 'resources', 'required', 'for', 'human', 'survival', '', 'aUN', 'report', 'said', ''], ['', '', 'FT', '', '14', 'MAY', '91', '', '', 'World', 'News', 'in', 'Brief', '', 'Newspaper', 'pays', 'up', '', 'A', 'Malaysian', 'English-language', 'newspaper', 'agreed', 'to', 'pay', 'former', 'Singapore', 'primeminister', 'Lee', 'Kuan', 'Yew', 'Dollars', '100', '000', 'over', 'allegations', 'of', 'corruption', ''], ['', '', 'FT', '', '14', 'MAY', '91', '', '', 'World', 'News', 'in', 'Brief', '', 'Khmer', 'Rouge', 'snub', '', 'Khmer', 'Rouge', 'guerrillas', 'refused', 'a', 'UN', 'observer', 'team', 's', 'request', 'for', 'a', 'visit', 'tothe', 'front', 'line', 'to', 'observe', 'the', 'Cambodian', 'ceasefire', ''], ['', '', 'FT', '', '14', 'MAY', '91', '', '', 'World', 'News', 'in', 'Brief', '', 'Cocaine', 'ring', 'broken', '', 'Spanish', 'police', 'said', 'they', 'had', 'broken', 'up', 'a', 'cocaine-smuggling', 'ring', '', 'arresting15', 'Chileans', 'and', 'seizing', 'Pta92m', '', 'Dollars', '900', '000', '', 'in', 'cash', ''], ['', '', 'FT', '', '14', 'MAY', '91', '', '', 'World', 'News', 'in', 'Brief', '', 'Malawi', 'frees', 'poet', '', 'Malawi', 'has', 'freed', 'dissident', 'poet', 'Jack', 'Mapanje', '', '46', '', 'detained', 'without', 'trial', 'formore', 'than', 'three', 'years', '', 'Amnesty', 'International', 'said', ''], ['', '', 'FT', '', '14', 'MAY', '91', '', '', 'World', 'News', 'in', 'Brief', '', 'Booby-trap', 'murder', '', 'A', 'Northern', 'Ireland', 'businessman', 'and', 'senior', 'member', 'of', 'the', 'loyalist', 'OrangeOrder', 'died', 'when', 'an', 'IRA', 'bomb', 'exploded', 'under', 'his', 'car', 'in', 'Armagh', ''], ['', '', 'FT', '', '14', 'MAY', '91', '', '', 'World', 'News', 'in', 'Brief', '', 'Brussels', 'rioting', '', 'Almost', '200', 'North', 'African', 'immigrants', 'were', 'arrested', 'in', 'Brussels', 'at', 'the', 'weekendduring', 'the', 'worst', 'racial', 'rioting', 'ever', 'seen', 'in', 'the', 'normally', 'placid', 'Belgiancapital', '']]\n"
     ]
    }
   ],
   "source": [
    "special_characters = ['!','\"','#','$','%','&','(',')','.',\"'\",'?',',','*','+','/',':',';','<','=','>','@','[','\\\\',']','^','`','{','|','}','~','\\t']\n",
    "for i in special_characters : \n",
    " trec = [x.replace(i,\" \") for x in trec]\n",
    "origint = trec\n",
    "\n",
    "trec = [x.split(\" \") for x in trec]\n",
    "\n",
    "print(trec[0:10])"
   ]
  },
  {
   "cell_type": "code",
   "execution_count": 19,
   "metadata": {},
   "outputs": [],
   "source": [
    "from stemming.porter2 import stem\n",
    "with open('stopwords.txt', 'r') as f:\n",
    "    stop = f.read()\n",
    "\n",
    "stop = stop.split(\"\\n\")\n",
    "stop = stop[6:len(stop)]\n",
    "Utrec = trec.copy()\n",
    "Strec = trec.copy()\n",
    "for i in range(0,len(trec)):\n",
    "    Strec[i] = [word.lower() for word in Strec[i] if word.isalpha()]\n",
    "    Utrec[i] = [word.lower() for word in Utrec[i] if word.isalpha()]\n",
    "    Strec[i] = [stem(word) for word in Strec[i] if word not in stop]\n",
    "    Utrec[i] = [stem(word) for word in Utrec[i]]"
   ]
  },
  {
   "cell_type": "code",
   "execution_count": 20,
   "metadata": {},
   "outputs": [],
   "source": [
    "dict = {}\n",
    "for i in range(len(Utrec)):\n",
    "    for j in range(len(Utrec[i])):\n",
    "        if Utrec[i][j] in Strec[i]:\n",
    "            if Utrec[i][j] not in dict:\n",
    "                dict[Utrec[i][j]] = []\n",
    "            if Utrec[i][j] in dict:\n",
    "                dict[Utrec[i][j]].append([i+1,j+1])"
   ]
  },
  {
   "cell_type": "code",
   "execution_count": 21,
   "metadata": {},
   "outputs": [
    {
     "name": "stdout",
     "output_type": "stream",
     "text": [
      "income taxes\n"
     ]
    },
    {
     "data": {
      "text/plain": [
       "([65, 201], [65, 202])"
      ]
     },
     "execution_count": 21,
     "metadata": {},
     "output_type": "execute_result"
    }
   ],
   "source": [
    "import re\n",
    "\n",
    "def ANDquery(search):\n",
    "    search = search.lower().split(\" \")\n",
    "    search.remove(\"and\")\n",
    "    a = stem(search[0])\n",
    "    b = stem(search[1])\n",
    "    res1 = set([x[0] for x in dict[a]])\n",
    "    res2 = set([x[0] for x in dict[b]])\n",
    "    result = list(res1.intersection(res2)) \n",
    "    result.sort(key=lambda i:int(i))\n",
    "    print(result)\n",
    "    return result  # result\n",
    "\n",
    "\n",
    "def ANDnot(search):\n",
    "    search = search.lower().split(\" \")\n",
    "    search.remove(\"and\")\n",
    "    search.remove('not')\n",
    "    a = stem(search[0])\n",
    "    b = stem(search[1])\n",
    "    res1 = set([x[0] for x in dict[a]])\n",
    "    res2 = set([x[0] for x in dict[b]])\n",
    "    result = [a for a in res1 if a not in res2]\n",
    "    return result\n",
    "    \n",
    "def ORquery(search):\n",
    "    search = search.lower().split(\" \")\n",
    "    search.remove(\"or\")\n",
    "    a = stem(search[0])\n",
    "    b = stem(search[1])\n",
    "    res1 = set([x[0] for x in dict[a]])\n",
    "    res2 = set([x[0] for x in dict[b]])\n",
    "    result = list(res1.union(res2)) \n",
    "    result.sort(key=lambda i:int(i))\n",
    "    print(result)\n",
    "    return result  # result\n",
    "\n",
    "def wordquery(search):\n",
    "    search = stem(search.lower())\n",
    "    res1 = dict[search]\n",
    "    result = list(res1)\n",
    "    return result\n",
    "\n",
    "def proxsearch(search,phrase):\n",
    "    dist = search.replace('#', ' ')\n",
    "    print(dist)\n",
    "    dist = ([re.sub('[^A-Za-z0-9]+', ' ',x) for x in dist])\n",
    "    dist = \"\".join(dist)\n",
    "    dist = dist.split(\" \")\n",
    "    if phrase == True:\n",
    "        search.split(\" \")\n",
    "    while '' in dist:\n",
    "        dist.remove('')\n",
    "    if phrase == True:\n",
    "        proximity = 1\n",
    "    else:\n",
    "        proximity = int(dist[0])\n",
    "        \n",
    "    if phrase == False:\n",
    "        res1 = [x for x in dict[stem((dist[1]).lower())]]\n",
    "        res2 = [x for x in dict[stem((dist[2]).lower())]]\n",
    "    else:\n",
    "        res1 = [x for x in dict[stem((dist[0]).lower())]]\n",
    "        res2 = [x for x in dict[stem((dist[1]).lower())]]\n",
    "    \n",
    "    inboth = [x for x in res1 if x[0] in [x[0] for x in res2]]\n",
    "    for i in range(len(inboth)):\n",
    "        for j in range(len(res2)):\n",
    "            if inboth[i][0] == res2[j][0]:\n",
    "                if phrase == True:\n",
    "                    if abs(inboth[i][1]-res2[j][1]) <= proximity:\n",
    "                        return inboth[i], res2[j]\n",
    "                if abs(inboth[i][1]-res2[j][1]) <= proximity:\n",
    "                    return inboth[i], res2[j]\n",
    "                \n",
    "    \n",
    "proxsearch(\"income taxes\",True)"
   ]
  },
  {
   "cell_type": "code",
   "execution_count": null,
   "metadata": {},
   "outputs": [],
   "source": []
  }
 ],
 "metadata": {
  "kernelspec": {
   "display_name": "Python 3",
   "language": "python",
   "name": "python3"
  },
  "language_info": {
   "codemirror_mode": {
    "name": "ipython",
    "version": 3
   },
   "file_extension": ".py",
   "mimetype": "text/x-python",
   "name": "python",
   "nbconvert_exporter": "python",
   "pygments_lexer": "ipython3",
   "version": "3.7.3"
  }
 },
 "nbformat": 4,
 "nbformat_minor": 2
}
